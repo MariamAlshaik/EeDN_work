{
 "cells": [
  {
   "cell_type": "code",
   "execution_count": null,
   "metadata": {
    "collapsed": true
   },
   "outputs": [],
   "source": [
    "%matplotlib inline"
   ]
  },
  {
   "cell_type": "code",
   "execution_count": 4,
   "metadata": {
    "collapsed": false
   },
   "outputs": [],
   "source": [
    "import subprocess as sp\n",
    "def subprocess_wrapper(sequence):\n",
    "#sequence='ACGUAGCUAGCUAGCAGUCUAGCUAGCAUCG'\n",
    "    flags='--noPS'\n",
    "    cmd = 'echo \"%s\" | RNAfold %s' % (sequence, flags)\n",
    "    out = sp.check_output(cmd, shell=True)\n",
    "    print (\"out:\", out)\n",
    "    text = out.strip().split('\\n')\n",
    "    seq= text[0]\n",
    "    struc= text[1].split()[0]\n",
    "    #print out\n",
    "    print (\"text:\", text)\n",
    "    print (\"seq:\", seq)\n",
    "    print (\"dotbrackets:\", struc)\n",
    "    return seq, struc"
   ]
  },
  {
   "cell_type": "code",
   "execution_count": 5,
   "metadata": {
    "collapsed": false
   },
   "outputs": [
    {
     "name": "stdout",
     "output_type": "stream",
     "text": [
      "('out:', 'ACGUAGCUAGCUAGCAGUCUAGCUAGCAUCG\\n.....(((((((((....))))))))).... (-13.80)\\n')\n",
      "('text:', ['ACGUAGCUAGCUAGCAGUCUAGCUAGCAUCG', '.....(((((((((....))))))))).... (-13.80)'])\n",
      "('seq:', 'ACGUAGCUAGCUAGCAGUCUAGCUAGCAUCG')\n",
      "('dotbrackets:', '.....(((((((((....)))))))))....')\n"
     ]
    },
    {
     "data": {
      "text/plain": [
       "('ACGUAGCUAGCUAGCAGUCUAGCUAGCAUCG', '.....(((((((((....)))))))))....')"
      ]
     },
     "execution_count": 5,
     "metadata": {},
     "output_type": "execute_result"
    }
   ],
   "source": [
    "seq= \"ACGUAGCUAGCUAGCAGUCUAGCUAGCAUCG\"\n",
    "subprocess_wrapper(seq)"
   ]
  },
  {
   "cell_type": "code",
   "execution_count": 3,
   "metadata": {
    "collapsed": false
   },
   "outputs": [],
   "source": [
    "#generate graphs from a word\n",
    "import networkx as nx\n",
    "#print \"string to graph\"\n",
    "#print seq\n",
    "def string_to_graph(seq, struc):\n",
    "    print \"build graph\"\n",
    "#    print (\"seq\", seq)\n",
    "#    print (\"struc\", struc)\n",
    "    seq= seq[0]\n",
    "    G = nx.Graph()\n",
    "    for i,letter in enumerate(seq):\n",
    "        G.add_node(i, label = seq[i])\n",
    "        if i > 0:\n",
    "            G.add_edge(i-1, i, label = 'x')\n",
    "    return G"
   ]
  },
  {
   "cell_type": "code",
   "execution_count": 12,
   "metadata": {
    "collapsed": false
   },
   "outputs": [
    {
     "name": "stdout",
     "output_type": "stream",
     "text": [
      "('text:', ['ACGUAGCUAGCUAGCAGUCUAGCUAGCAUCC', '.....(((((((((....))))))))).... (-13.80)'])\n",
      "('seq:', 'ACGUAGCUAGCUAGCAGUCUAGCUAGCAUCC')\n",
      "('dotbrackets:', '.....(((((((((....)))))))))....')\n"
     ]
    }
   ],
   "source": [
    "#just testing\n",
    "sequence = 'ACGUAGCUAGCUAGCAGUCUAGCUAGCAUCC'\n",
    "struc = subprocess_wrapper(sequence)\n",
    "x = basepair_relation(struc)"
   ]
  },
  {
   "cell_type": "code",
   "execution_count": 4,
   "metadata": {
    "collapsed": false
   },
   "outputs": [
    {
     "name": "stdout",
     "output_type": "stream",
     "text": [
      "graph display\n"
     ]
    }
   ],
   "source": [
    "#The display of the generated graphs\n",
    "from eden.util import display\n",
    "print \"graph display\"\n",
    "#sequ = subprocess_wrapper('ACGUAGCUAGCUAGCAGUCUAGCUAGCAUCC')\n",
    "def graph_display(seq, struc):\n",
    "    print \"display\"\n",
    "    \n",
    "#for text in words:\n",
    "    word_graph = string_to_graph(seq, struc)\n",
    "#    print \"again\"\n",
    "#    print seq\n",
    "#    print struc\n",
    "    display.draw_graph(word_graph,node_size=100, font_size=9, node_border=True, size_x_to_y_ratio=3, prog='circo')"
   ]
  },
  {
   "cell_type": "code",
   "execution_count": 5,
   "metadata": {
    "collapsed": false
   },
   "outputs": [],
   "source": [
    "def call_all():\n",
    "    print \"here\"\n",
    "    sequence = 'ACGUAGCUAGCUAGCAGUCUAGCUAGCAUCC'\n",
    "    seq = subprocess_wrapper(sequence)\n",
    "    struc = subprocess_wrapper(sequence)\n",
    "    graph_display(seq, struc)"
   ]
  },
  {
   "cell_type": "code",
   "execution_count": 6,
   "metadata": {
    "collapsed": true
   },
   "outputs": [
    {
     "name": "stdout",
     "output_type": "stream",
     "text": [
      "here\n",
      "('text:', ['ACGUAGCUAGCUAGCAGUCUAGCUAGCAUCC', '.....(((((((((....))))))))).... (-13.80)'])\n",
      "('seq:', 'ACGUAGCUAGCUAGCAGUCUAGCUAGCAUCC')\n",
      "('dotbrackets:', '.....(((((((((....)))))))))....')\n",
      "('text:', ['ACGUAGCUAGCUAGCAGUCUAGCUAGCAUCC', '.....(((((((((....))))))))).... (-13.80)'])\n",
      "('seq:', 'ACGUAGCUAGCUAGCAGUCUAGCUAGCAUCC')\n",
      "('dotbrackets:', '.....(((((((((....)))))))))....')\n",
      "display\n",
      "build graph\n"
     ]
    },
    {
     "data": {
      "image/png": "[encoded data removed]",
      "text/plain": [
       "<matplotlib.figure.Figure at 0x7fb3a12f15d0>"
      ]
     },
     "metadata": {},
     "output_type": "display_data"
    }
   ],
   "source": [
    "call_all()"
   ]
  },
  {
   "cell_type": "code",
   "execution_count": 98,
   "metadata": {
    "collapsed": false
   },
   "outputs": [],
   "source": [
    "#add basepair edge\n",
    "%matplotlib inline\n",
    "import re\n",
    "import networkx as nx\n",
    "from eden.util import display\n",
    "\n",
    "def basepair_relation(struc):\n",
    "    open_pran = '('\n",
    "    close_pran = ')'\n",
    "    stack = []\n",
    "    stack_s = []\n",
    "    G = nx.Graph()\n",
    "#    print struc\n",
    "    for i, k in enumerate(struc):\n",
    "#        print struc[i]\n",
    "        G.add_node(i, label = struc[i])\n",
    "        if i > 0:\n",
    "            G.add_edge(i-1, i, label= 'x')\n",
    "        if struc[i] == open_pran:\n",
    "            j = i\n",
    "            stack_s.append(struc[i])\n",
    "            print ('stack_s', stack_s)\n",
    "            print ('stack', stack)\n",
    "            stack.append(struc[i])\n",
    "        if struc[i] == close_pran:\n",
    "            stack_s.pop()\n",
    "            G.add_edge(i, j, label = 'b')\n",
    "    print 'here'\n",
    "    display.draw_graph(G, node_size=180, font_size=9, node_border=True, size_x_to_y_ratio=10, prog='circo')\n",
    "#    return G \n",
    "#print 'graph'\n",
    "#def build_graph(G):\n",
    "#    print 'here'\n"
   ]
  },
  {
   "cell_type": "code",
   "execution_count": 99,
   "metadata": {
    "collapsed": false
   },
   "outputs": [
    {
     "name": "stdout",
     "output_type": "stream",
     "text": [
      "('stack_s', ['('])\n",
      "('stack', [])\n",
      "('stack_s', ['(', '('])\n",
      "('stack', ['('])\n",
      "('stack_s', ['(', '(', '('])\n",
      "('stack', ['(', '('])\n",
      "('i,j,si:', ')', '(', ['(', '('])\n",
      "('i,j,si:', ')', '(', ['('])\n",
      "('i,j,si:', ')', '(', [])\n",
      "here\n"
     ]
    },
    {
     "data": {
      "image/png": "[encoded data removed]",
      "text/plain": [
       "<matplotlib.figure.Figure at 0x7f810801ca90>"
      ]
     },
     "metadata": {},
     "output_type": "display_data"
    }
   ],
   "source": [
    "basepair_relation('.....(((....)))....')"
   ]
  },
  {
   "cell_type": "code",
   "execution_count": 11,
   "metadata": {
    "collapsed": true
   },
   "outputs": [],
   "source": [
    "#recognize the basepair then add an extra edge between the related nodes\n",
    "from eden.util import display\n",
    "def basepair_relation(struc):\n",
    "    struc = struc[1].split()[0]\n",
    "    for i in enumerate(struc):\n",
    "        #test the pantheses\n",
    "        for i in range(len(struc)):\n",
    "        print 'here'\n",
    "        if (struc[i] == open_pran or n[i] == closed_pran):\n",
    "            print n[i]\n",
    "            stack.append(n[i])\n",
    "            print stack\n"
   ]
  },
  {
   "cell_type": "code",
   "execution_count": null,
   "metadata": {
    "collapsed": true
   },
   "outputs": [],
   "source": []
  }
 ],
 "metadata": {
  "kernelspec": {
   "display_name": "Python 2",
   "language": "python",
   "name": "python2"
  },
  "language_info": {
   "codemirror_mode": {
    "name": "ipython",
    "version": 2
   },
   "file_extension": ".py",
   "mimetype": "text/x-python",
   "name": "python",
   "nbconvert_exporter": "python",
   "pygments_lexer": "ipython2",
   "version": "2.7.10"
  }
 },
 "nbformat": 4,
 "nbformat_minor": 0
}
