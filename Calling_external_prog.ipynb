{
 "cells": [
  {
   "cell_type": "code",
   "execution_count": 1,
   "metadata": {
    "collapsed": false
   },
   "outputs": [],
   "source": [
    "%matplotlib inline\n",
    "import mpld3\n",
    "mpld3.enable_notebook()"
   ]
  },
  {
   "cell_type": "markdown",
   "metadata": {},
   "source": [
    "## Main functions:\n",
    "    - Generate the secondray structure of the given sequence.\n",
    "    - Generate graph from the sequence.\n",
    "    - Display the generated graph without the basepair relation.\n",
    "    - Recognize basepairs and add them to the graph generated graph."
   ]
  },
  {
   "cell_type": "code",
   "execution_count": 2,
   "metadata": {
    "collapsed": false
   },
   "outputs": [],
   "source": [
    "#Generate the secondray structure of the given sequence\n",
    "import subprocess as sp\n",
    "def subprocess_wrapper(sequence):\n",
    "#sequence='ACGUAGCUAGCUAGCAGUCUAGCUAGCAUCG'\n",
    "    flags='--noPS'\n",
    "    cmd = 'echo \"%s\" | RNAfold %s' % (sequence, flags)\n",
    "    out = sp.check_output(cmd, shell=True)\n",
    "    text = out.strip().split('\\n')\n",
    "    seq= text[0]\n",
    "    struc= text[1].split()[0]\n",
    "    return seq, struc"
   ]
  },
  {
   "cell_type": "code",
   "execution_count": 3,
   "metadata": {
    "collapsed": false
   },
   "outputs": [],
   "source": [
    "#generate graph from the sequence\n",
    "import networkx as nx\n",
    "def string_to_graph(seq, struc):\n",
    "    seq= seq[0]\n",
    "    G = nx.Graph()\n",
    "    for i,letter in enumerate(seq):\n",
    "        G.add_node(i, label = seq[i])\n",
    "        if i > 0:\n",
    "            G.add_edge(i-1, i, label = 'x')\n",
    "    return G"
   ]
  },
  {
   "cell_type": "code",
   "execution_count": 4,
   "metadata": {
    "collapsed": false
   },
   "outputs": [],
   "source": [
    "#The display of the generated graph\n",
    "from eden.util import display\n",
    "def graph_display(seq, struc):\n",
    "    #for text in words:\n",
    "    word_graph = string_to_graph(seq, struc)\n",
    "    display.draw_graph(word_graph,node_size=100, font_size=9, node_border=True, size_x_to_y_ratio=3, prog='circo')"
   ]
  },
  {
   "cell_type": "code",
   "execution_count": 5,
   "metadata": {
    "collapsed": false
   },
   "outputs": [],
   "source": [
    "#Recognize basepairs and add them to the generated graph\n",
    "import re\n",
    "import networkx as nx\n",
    "from eden.util import display\n",
    "\n",
    "def basepair_relation(seq, struc):\n",
    "    seq = seq[0]\n",
    "    struc = struc[1].split()[0]\n",
    "    open_pran = \"(\"\n",
    "    close_pran = \")\"\n",
    "    stack = []\n",
    "    stack_s = []\n",
    "    G = nx.Graph()\n",
    "    for l, m in enumerate(seq):\n",
    "        for i, k in enumerate(struc):\n",
    "            G.add_node(i, label = seq[i])\n",
    "            if i > 0:\n",
    "                G.add_edge(i-1, i, label= 'x')\n",
    "            if struc[i] == open_pran:\n",
    "                j = i\n",
    "                stack_s.append(struc[i])\n",
    "                stack.append(struc[i])\n",
    "            if struc[i] == close_pran:\n",
    "                stack_s.pop()\n",
    "                G.add_edge(i, j, label = 'b')\n",
    "    display.draw_graph(G, node_size=180, font_size=9, node_border=True, size_x_to_y_ratio=10, prog='circo')"
   ]
  },
  {
   "cell_type": "markdown",
   "metadata": {},
   "source": [
    "# Experiment"
   ]
  },
  {
   "cell_type": "code",
   "execution_count": 6,
   "metadata": {
    "collapsed": false
   },
   "outputs": [],
   "source": [
    "def call_all():\n",
    "    sequence = 'ACGUAGCUAGCUAGCAGUCUAGCUAGCAUCC'\n",
    "    seq = subprocess_wrapper(sequence)\n",
    "    struc = subprocess_wrapper(sequence)\n",
    "    print \"Graph without base pairing\"\n",
    "    graph_display(seq, struc)\n",
    "    print \"Graph with base pairing\"\n",
    "    basepair_relation(seq, struc)"
   ]
  },
  {
   "cell_type": "code",
   "execution_count": 7,
   "metadata": {
    "collapsed": false
   },
   "outputs": [
    {
     "ename": "CalledProcessError",
     "evalue": "Command 'echo \"ACGUAGCUAGCUAGCAGUCUAGCUAGCAUCC\" | RNAfold --noPS' returned non-zero exit status 127",
     "output_type": "error",
     "traceback": [
      "\u001b[1;31m---------------------------------------------------------------------------\u001b[0m",
      "\u001b[1;31mCalledProcessError\u001b[0m                        Traceback (most recent call last)",
      "\u001b[1;32m<ipython-input-7-3813ecbacf8a>\u001b[0m in \u001b[0;36m<module>\u001b[1;34m()\u001b[0m\n\u001b[1;32m----> 1\u001b[1;33m \u001b[0mcall_all\u001b[0m\u001b[1;33m(\u001b[0m\u001b[1;33m)\u001b[0m\u001b[1;33m\u001b[0m\u001b[0m\n\u001b[0m",
      "\u001b[1;32m<ipython-input-6-a18506847c1a>\u001b[0m in \u001b[0;36mcall_all\u001b[1;34m()\u001b[0m\n\u001b[0;32m      1\u001b[0m \u001b[1;32mdef\u001b[0m \u001b[0mcall_all\u001b[0m\u001b[1;33m(\u001b[0m\u001b[1;33m)\u001b[0m\u001b[1;33m:\u001b[0m\u001b[1;33m\u001b[0m\u001b[0m\n\u001b[0;32m      2\u001b[0m     \u001b[0msequence\u001b[0m \u001b[1;33m=\u001b[0m \u001b[1;34m'ACGUAGCUAGCUAGCAGUCUAGCUAGCAUCC'\u001b[0m\u001b[1;33m\u001b[0m\u001b[0m\n\u001b[1;32m----> 3\u001b[1;33m     \u001b[0mseq\u001b[0m \u001b[1;33m=\u001b[0m \u001b[0msubprocess_wrapper\u001b[0m\u001b[1;33m(\u001b[0m\u001b[0msequence\u001b[0m\u001b[1;33m)\u001b[0m\u001b[1;33m\u001b[0m\u001b[0m\n\u001b[0m\u001b[0;32m      4\u001b[0m     \u001b[0mstruc\u001b[0m \u001b[1;33m=\u001b[0m \u001b[0msubprocess_wrapper\u001b[0m\u001b[1;33m(\u001b[0m\u001b[0msequence\u001b[0m\u001b[1;33m)\u001b[0m\u001b[1;33m\u001b[0m\u001b[0m\n\u001b[0;32m      5\u001b[0m     \u001b[1;32mprint\u001b[0m \u001b[1;34m\"Graph without base pairing\"\u001b[0m\u001b[1;33m\u001b[0m\u001b[0m\n",
      "\u001b[1;32m<ipython-input-2-ad8f6d1c6c13>\u001b[0m in \u001b[0;36msubprocess_wrapper\u001b[1;34m(sequence)\u001b[0m\n\u001b[0;32m      5\u001b[0m     \u001b[0mflags\u001b[0m\u001b[1;33m=\u001b[0m\u001b[1;34m'--noPS'\u001b[0m\u001b[1;33m\u001b[0m\u001b[0m\n\u001b[0;32m      6\u001b[0m     \u001b[0mcmd\u001b[0m \u001b[1;33m=\u001b[0m \u001b[1;34m'echo \"%s\" | RNAfold %s'\u001b[0m \u001b[1;33m%\u001b[0m \u001b[1;33m(\u001b[0m\u001b[0msequence\u001b[0m\u001b[1;33m,\u001b[0m \u001b[0mflags\u001b[0m\u001b[1;33m)\u001b[0m\u001b[1;33m\u001b[0m\u001b[0m\n\u001b[1;32m----> 7\u001b[1;33m     \u001b[0mout\u001b[0m \u001b[1;33m=\u001b[0m \u001b[0msp\u001b[0m\u001b[1;33m.\u001b[0m\u001b[0mcheck_output\u001b[0m\u001b[1;33m(\u001b[0m\u001b[0mcmd\u001b[0m\u001b[1;33m,\u001b[0m \u001b[0mshell\u001b[0m\u001b[1;33m=\u001b[0m\u001b[0mTrue\u001b[0m\u001b[1;33m)\u001b[0m\u001b[1;33m\u001b[0m\u001b[0m\n\u001b[0m\u001b[0;32m      8\u001b[0m     \u001b[0mtext\u001b[0m \u001b[1;33m=\u001b[0m \u001b[0mout\u001b[0m\u001b[1;33m.\u001b[0m\u001b[0mstrip\u001b[0m\u001b[1;33m(\u001b[0m\u001b[1;33m)\u001b[0m\u001b[1;33m.\u001b[0m\u001b[0msplit\u001b[0m\u001b[1;33m(\u001b[0m\u001b[1;34m'\\n'\u001b[0m\u001b[1;33m)\u001b[0m\u001b[1;33m\u001b[0m\u001b[0m\n\u001b[0;32m      9\u001b[0m     \u001b[0mseq\u001b[0m\u001b[1;33m=\u001b[0m \u001b[0mtext\u001b[0m\u001b[1;33m[\u001b[0m\u001b[1;36m0\u001b[0m\u001b[1;33m]\u001b[0m\u001b[1;33m\u001b[0m\u001b[0m\n",
      "\u001b[1;32m/home/alsheikm/miniconda2/lib/python2.7/subprocess.pyc\u001b[0m in \u001b[0;36mcheck_output\u001b[1;34m(*popenargs, **kwargs)\u001b[0m\n\u001b[0;32m    571\u001b[0m         \u001b[1;32mif\u001b[0m \u001b[0mcmd\u001b[0m \u001b[1;32mis\u001b[0m \u001b[0mNone\u001b[0m\u001b[1;33m:\u001b[0m\u001b[1;33m\u001b[0m\u001b[0m\n\u001b[0;32m    572\u001b[0m             \u001b[0mcmd\u001b[0m \u001b[1;33m=\u001b[0m \u001b[0mpopenargs\u001b[0m\u001b[1;33m[\u001b[0m\u001b[1;36m0\u001b[0m\u001b[1;33m]\u001b[0m\u001b[1;33m\u001b[0m\u001b[0m\n\u001b[1;32m--> 573\u001b[1;33m         \u001b[1;32mraise\u001b[0m \u001b[0mCalledProcessError\u001b[0m\u001b[1;33m(\u001b[0m\u001b[0mretcode\u001b[0m\u001b[1;33m,\u001b[0m \u001b[0mcmd\u001b[0m\u001b[1;33m,\u001b[0m \u001b[0moutput\u001b[0m\u001b[1;33m=\u001b[0m\u001b[0moutput\u001b[0m\u001b[1;33m)\u001b[0m\u001b[1;33m\u001b[0m\u001b[0m\n\u001b[0m\u001b[0;32m    574\u001b[0m     \u001b[1;32mreturn\u001b[0m \u001b[0moutput\u001b[0m\u001b[1;33m\u001b[0m\u001b[0m\n\u001b[0;32m    575\u001b[0m \u001b[1;33m\u001b[0m\u001b[0m\n",
      "\u001b[1;31mCalledProcessError\u001b[0m: Command 'echo \"ACGUAGCUAGCUAGCAGUCUAGCUAGCAUCC\" | RNAfold --noPS' returned non-zero exit status 127"
     ]
    }
   ],
   "source": [
    "call_all()"
   ]
  },
  {
   "cell_type": "code",
   "execution_count": null,
   "metadata": {
    "collapsed": true
   },
   "outputs": [],
   "source": []
  }
 ],
 "metadata": {
  "kernelspec": {
   "display_name": "Python 2",
   "language": "python",
   "name": "python2"
  },
  "language_info": {
   "codemirror_mode": {
    "name": "ipython",
    "version": 2
   },
   "file_extension": ".py",
   "mimetype": "text/x-python",
   "name": "python",
   "nbconvert_exporter": "python",
   "pygments_lexer": "ipython2",
   "version": "2.7.11"
  }
 },
 "nbformat": 4,
 "nbformat_minor": 0
}
