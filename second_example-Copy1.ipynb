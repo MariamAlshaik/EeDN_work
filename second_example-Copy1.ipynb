{
 "cells": [
  {
   "cell_type": "code",
   "execution_count": 1,
   "metadata": {
    "collapsed": false
   },
   "outputs": [],
   "source": [
    "%matplotlib inline\n",
    "import pylab as plt\n",
    "import networkx as nx"
   ]
  },
  {
   "cell_type": "code",
   "execution_count": 2,
   "metadata": {
    "collapsed": false
   },
   "outputs": [
    {
     "name": "stdout",
     "output_type": "stream",
     "text": [
      "abcdefghijklmnopqrst\n"
     ]
    }
   ],
   "source": [
    "##genetate random dataset from a-->z\n",
    "#import os\n",
    "#import string\n",
    "num = 20\n",
    "mkstring = lambda(x): \"\".join(map(chr, (ord('a')+(y) for y in range(x))))\n",
    "mkstring(num)\n",
    "string_l = mkstring(num)\n",
    "print string_l\n",
    "\n",
    "#def swap(string_l, i, j):\n",
    "#string_l = list(string_l)\n",
    "#j = -1\n",
    "#string_l[i], string_l[j] = string_l[j] , string_l[i]\n",
    "#return ''.join(string_l)\n",
    "#return string_l"
   ]
  },
  {
   "cell_type": "code",
   "execution_count": 33,
   "metadata": {
    "collapsed": false
   },
   "outputs": [],
   "source": [
    "##genetate random dataset from a-->z\n",
    "def char_gen(num):\n",
    "#    num = 20\n",
    "    mkstring = lambda(x): \"\".join(map(chr, (ord('a')+(y) for y in range(x))))\n",
    "    mkstring(num)\n",
    "    string_l = mkstring(num)\n",
    "    return string_l\n",
    "    print string_l"
   ]
  },
  {
   "cell_type": "code",
   "execution_count": 34,
   "metadata": {
    "collapsed": false
   },
   "outputs": [
    {
     "data": {
      "text/plain": [
       "'abcdefghij'"
      ]
     },
     "execution_count": 34,
     "metadata": {},
     "output_type": "execute_result"
    }
   ],
   "source": [
    "char_gen(10)"
   ]
  },
  {
   "cell_type": "code",
   "execution_count": null,
   "metadata": {
    "collapsed": true
   },
   "outputs": [],
   "source": [
    "from eden.util import display\n",
    "i = -1\n",
    "#print (\"i\", i)\n",
    "graph_list = []\n",
    "G = nx.Graph()\n",
    "def strings_to_graph(list_seq):\n",
    "#    print list_seq\n",
    "\n",
    "    \n",
    "    for id in list_seq:\n",
    "        i = -1\n",
    "#        print (\"i\", i)\n",
    "        print (\"id\", id)\n",
    "        seqs = list(id)\n",
    "#        print (\"seqs\", seqs)\n",
    "        for seq in range(len(seqs)):\n",
    "            print (\"seq\", id[seq])\n",
    "            G.add_node(id[seq], label = id[seq])\n",
    "            i += 1\n",
    "#            print (\"i\", i)\n",
    "            if i > 0:\n",
    "                G.add_edge(id[i-1], id[i], label = 'x')\n",
    "                print (\"edge\", id[i-1], id[i])\n",
    "#    return G\n",
    "\n",
    "graph_list += [G.copy()]\n"
   ]
  },
  {
   "cell_type": "code",
   "execution_count": 25,
   "metadata": {
    "collapsed": false
   },
   "outputs": [
    {
     "name": "stdout",
     "output_type": "stream",
     "text": [
      "1 2\n"
     ]
    }
   ],
   "source": [
    "##swapping 2 characters in a string\n",
    "import random\n",
    "rand1 = random.randint(0,5)\n",
    "rand2 = random.randint(0,5)\n",
    "\n",
    "print rand1, rand2\n",
    "def swap(item):\n",
    "    items = list(item)\n",
    "    print item\n",
    "    print items\n",
    "#    for i in range(len(item)):\n",
    "    items[rand1], items[rand2] = items[rand2], items[rand1]\n",
    "    #    items[rand2] = items[rand1]\n",
    "    sequence = ''.join(items)\n",
    "    print  ''.join(sequence)\n",
    "    \n",
    "\n",
    "  #      temp = string_list[i]\n",
    "#        string_list[i] = string_list[-i]\n",
    "#        string_list[-i] = temp\n",
    "#        buffer = string_list\n",
    "#        sequence = ''.join(buffer)\n",
    "#    return sequence\n",
    "        \n",
    "#string_list = ''\n",
    "#s = string_l\n",
    "#string_list = list(s)\n",
    "\n",
    "#    print buffer\n",
    "#    print sequence\n",
    "#    i += i\n",
    "\n",
    "\n",
    "#     for i in range(len(item)):\n",
    "#        items[rand1], items[rand2] = items[rand2], items[rand1]\n",
    "#        sequence = ''.join(items)\n",
    "#    print sequence\n"
   ]
  },
  {
   "cell_type": "code",
   "execution_count": null,
   "metadata": {
    "collapsed": true
   },
   "outputs": [],
   "source": [
    "##genetate random dataset from a-->z\n",
    "import random\n",
    "\n",
    "list_seq = []\n",
    "\n",
    "def char_gen(num):  \n",
    "    mkstring = lambda(x): \"\".join(map(chr, (ord('a')+(y) for y in range(x))))\n",
    "    mkstring(num)\n",
    "    string_l = mkstring(num)\n",
    "    print string_l\n",
    "#    print\"gen is finished\"\n",
    "    \n",
    "    def swap(string_l):\n",
    "#        print \"in swap\"\n",
    "        items = list(string_l)\n",
    "#        print string_l\n",
    "#        print items\n",
    "    #    for i in range(len(string_l)):\n",
    "        rand1 = random.randint(0,5)\n",
    "        rand2 = random.randint(0,5)\n",
    "#        print rand1, rand2\n",
    "        if rand1 != rand2:\n",
    "            items[rand1], items[rand2] = items[rand2], items[rand1]\n",
    "        return ''.join(items)\n",
    "\n",
    "    for j in range(num):\n",
    "            string_l = swap( string_l )\n",
    "            list_seq.append(string_l)\n",
    "            print string_l\n",
    "#    return list_seq\n",
    "    #    print sequence\n"
   ]
  },
  {
   "cell_type": "code",
   "execution_count": 27,
   "metadata": {
    "collapsed": true
   },
   "outputs": [],
   "source": [
    "def swap_all_seq(item):\n",
    "    for i in range(len(item)):\n",
    "        swap(item)\n",
    "        sequence_n = swap(sequence_n)\n",
    "        print sequence_n\n"
   ]
  },
  {
   "cell_type": "code",
   "execution_count": 28,
   "metadata": {
    "collapsed": false
   },
   "outputs": [
    {
     "name": "stdout",
     "output_type": "stream",
     "text": [
      "abcdefghijklmnopqrst\n",
      "['a', 'b', 'c', 'd', 'e', 'f', 'g', 'h', 'i', 'j', 'k', 'l', 'm', 'n', 'o', 'p', 'q', 'r', 's', 't']\n",
      "acbdefghijklmnopqrst\n"
     ]
    }
   ],
   "source": [
    "swap(string_l)"
   ]
  },
  {
   "cell_type": "code",
   "execution_count": 64,
   "metadata": {
    "collapsed": false
   },
   "outputs": [
    {
     "ename": "NameError",
     "evalue": "name 'G' is not defined",
     "output_type": "error",
     "traceback": [
      "\u001b[1;31m---------------------------------------------------------------------------\u001b[0m",
      "\u001b[1;31mNameError\u001b[0m                                 Traceback (most recent call last)",
      "\u001b[1;32m<ipython-input-64-f8576fc372c5>\u001b[0m in \u001b[0;36m<module>\u001b[1;34m()\u001b[0m\n\u001b[0;32m     17\u001b[0m \u001b[1;31m#    for g in graph_list:\u001b[0m\u001b[1;33m\u001b[0m\u001b[1;33m\u001b[0m\u001b[0m\n\u001b[0;32m     18\u001b[0m \u001b[1;31m#        print display.serialize_graph(g)\u001b[0m\u001b[1;33m\u001b[0m\u001b[1;33m\u001b[0m\u001b[0m\n\u001b[1;32m---> 19\u001b[1;33m \u001b[0mdisplay\u001b[0m\u001b[1;33m.\u001b[0m\u001b[0mdraw_graph\u001b[0m\u001b[1;33m(\u001b[0m\u001b[0mG\u001b[0m\u001b[1;33m)\u001b[0m\u001b[1;33m\u001b[0m\u001b[0m\n\u001b[0m",
      "\u001b[1;31mNameError\u001b[0m: name 'G' is not defined"
     ]
    }
   ],
   "source": [
    "##genetate graphs from strings\n",
    "#%matplotlib inline\n",
    "#import networkx as nx\n",
    "from eden.util import display\n",
    "\n",
    "#strings= sequence\n",
    "#graph_list = []\n",
    "\n",
    "def strings_to_graph(sequence):\n",
    "    G = nx.Graph()\n",
    "    for id in strings:\n",
    "        G.add_node(id, label= id)\n",
    "        if id > 0:\n",
    "            G.add_edge(id, id-1, label='x')\n",
    "#        graph_list += [G.copy()]\n",
    "    #return G\n",
    "#    for g in graph_list:\n",
    "#        print display.serialize_graph(g)\n",
    "display.draw_graph(G)"
   ]
  },
  {
   "cell_type": "code",
   "execution_count": 61,
   "metadata": {
    "collapsed": false
   },
   "outputs": [
    {
     "ename": "NameError",
     "evalue": "name 'g' is not defined",
     "output_type": "error",
     "traceback": [
      "\u001b[1;31m---------------------------------------------------------------------------\u001b[0m",
      "\u001b[1;31mNameError\u001b[0m                                 Traceback (most recent call last)",
      "\u001b[1;32m<ipython-input-61-b815e97ec0dc>\u001b[0m in \u001b[0;36m<module>\u001b[1;34m()\u001b[0m\n\u001b[0;32m      1\u001b[0m \u001b[1;32mfrom\u001b[0m \u001b[0meden\u001b[0m\u001b[1;33m.\u001b[0m\u001b[0mutil\u001b[0m \u001b[1;32mimport\u001b[0m \u001b[0mdisplay\u001b[0m\u001b[1;33m\u001b[0m\u001b[0m\n\u001b[0;32m      2\u001b[0m \u001b[1;31m#for g in graph_list:\u001b[0m\u001b[1;33m\u001b[0m\u001b[1;33m\u001b[0m\u001b[0m\n\u001b[1;32m----> 3\u001b[1;33m \u001b[0mdisplay\u001b[0m\u001b[1;33m.\u001b[0m\u001b[0mdraw_graph\u001b[0m\u001b[1;33m(\u001b[0m\u001b[0mg\u001b[0m\u001b[1;33m)\u001b[0m\u001b[1;33m\u001b[0m\u001b[0m\n\u001b[0m",
      "\u001b[1;31mNameError\u001b[0m: name 'g' is not defined"
     ]
    }
   ],
   "source": [
    "from eden.util import display\n",
    "#for g in graph_list:\n",
    "display.draw_graph(g)"
   ]
  },
  {
   "cell_type": "code",
   "execution_count": null,
   "metadata": {
    "collapsed": true
   },
   "outputs": [],
   "source": [
    "##genetate graphs from strings\n",
    "#%matplotlib inline\n",
    "#import networkx as nx\n",
    "from eden.util import display\n",
    "\n",
    "#strings= sequence\n",
    "graph_list = []\n",
    "#print (\"graph_list\", graph_list)\n",
    "\n",
    "def strings_to_graph(list_seq):\n",
    "    print list_seq\n",
    "    G = nx.Graph()\n",
    "    for id in list_seq:\n",
    "        print \"#####\"\n",
    "        print (\"id\", id)\n",
    "        for i in range(len(id)):\n",
    "            print i\n",
    "            conv_list= list(id[i])\n",
    "            print conv_list\n",
    "#            for j in range(len(conv_list)):\n",
    "            G.add_node(conv_list[i], label= conv_list[i])\n",
    "            print (\"node\", conv_list[i])\n",
    "            print \"end node\"\n",
    "            if i > 0:\n",
    "                print \"edge\"\n",
    "                G.add_edge(conv_list[i]-1, conv_list[i], label='x')\n",
    "                print (\"edge\", conv_list[i], conv_list[i]-1)\n",
    "                print \"after edge\"\n",
    "    graph_list += [G.copy()]\n",
    "#            print graph_list\n",
    "    return G\n",
    "\n",
    "    \n",
    "for g in graph_list:\n",
    "    print graph_list\n",
    "    #        print display.serialize_graph(g)\n",
    "    display.draw_graph(g)"
   ]
  },
  {
   "cell_type": "code",
   "execution_count": 23,
   "metadata": {
    "collapsed": true
   },
   "outputs": [],
   "source": [
    "def make_gen(num):\n",
    "    alist = []\n",
    "    for i in range(num):\n",
    "        alist.append(i)\n",
    "    return alist"
   ]
  },
  {
   "cell_type": "code",
   "execution_count": 26,
   "metadata": {
    "collapsed": true
   },
   "outputs": [],
   "source": [
    "def make_gen(num):\n",
    "    for i in range(num):\n",
    "        yield i"
   ]
  },
  {
   "cell_type": "code",
   "execution_count": 29,
   "metadata": {
    "collapsed": false
   },
   "outputs": [
    {
     "name": "stdout",
     "output_type": "stream",
     "text": [
      "[0, 1, 2, 3, 4]\n"
     ]
    }
   ],
   "source": [
    "a = make_gen(5)\n",
    "b = list(a)\n",
    "print b"
   ]
  }
 ],
 "metadata": {
  "kernelspec": {
   "display_name": "Python 2",
   "language": "python",
   "name": "python2"
  },
  "language_info": {
   "codemirror_mode": {
    "name": "ipython",
    "version": 2
   },
   "file_extension": ".py",
   "mimetype": "text/x-python",
   "name": "python",
   "nbconvert_exporter": "python",
   "pygments_lexer": "ipython2",
   "version": "2.7.10"
  }
 },
 "nbformat": 4,
 "nbformat_minor": 0
}
