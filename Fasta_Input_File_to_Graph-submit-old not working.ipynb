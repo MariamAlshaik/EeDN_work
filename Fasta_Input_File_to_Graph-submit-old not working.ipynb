{
 "cells": [
  {
   "cell_type": "markdown",
   "metadata": {},
   "source": [
    "# New tasks:\n",
    "- make a function that read a fasta file from disk and yields (header, seq) pairs +\n",
    "- ex from:\n",
    ">AB003409.1/96-167\n",
    "GGGCCCAUAGCUCAGUGGUAGAGUGCCUCCUUUGCAAGGAGGAUGCCCUGGGUUCGAAUC comment\n",
    "CCAGUGGGUCCA\n",
    ">AB009835.1/1-71\n",
    "CAUUAGAUGACUGAAAGCAAGUACUGGUCUCUUAAACCAUUUAAUAGUAAAUacagugcCUU\n",
    "CAUUAGAUGACUGAAAGCAAGUACUGGUCUCUUAAACCAUUUAAUAGUAAAUacagugcCUU\n",
    "CAUUAGAUGACUGAAAGCAAGUACUGGUCUCUUAAACCAUUUAAUAGUAAAUacagugcCUU\n",
    "CAUUAGAUGACUGAAAGCAAGUACUGGUCUCUUAAACCAUUUAAUAGUAAAUacagugcCUU\n",
    "- yield:\n",
    "(AB003409.1/96-167, GGGCCCAUAGCUCAGUGGUAGAGUGCCUCCUUUGCAAGGAGGAUGCCCUGGGUUCGAAUCCCAGUGGGUCCA)\n",
    "(AB009835.1/1-71,CAUUAGAUGACUGAAAGCAAGUACUGGUCUCUUAAACCAUUUAAUAGUAAAUacagugcCUUCAUUAGAUGACUGAAAGCAAGUACUGGUCUCUUAAACCAUUUAAUAGUAAAUacagugcCUUCAUUAGAUGACUGAAAGCAAGUACUGGUCUCUUAAACCAUUUAAUAGUAAAUacagugcCUUCAUUAGAUGACUGAAAGCAAGUACUGGUCUCUUAAACCAUUUAAUAGUAAAUacagugcCUU)\n",
    "\n",
    "- make a function that receives in input the list of sequences, and yields structure graphs +\n",
    "- make a function that receives a iterator over graphs and i,j and plots only graphs from num i to num j\n",
    "\n",
    "\n",
    "1. test if space or tab\n",
    "2. test if command (after a space or any latter exept 'aucg' or 'rnytkmswbdhvgu')\n",
    "3. test if new line without header then concatenate\n",
    "4. test if new line with header then new graph\n",
    "\n",
    "## comments are not working"
   ]
  },
  {
   "cell_type": "code",
   "execution_count": 54,
   "metadata": {
    "collapsed": false
   },
   "outputs": [],
   "source": [
    "%matplotlib inline\n",
    "import os, sys\n",
    "import subprocess as sp\n",
    "from itertools import cycle\n",
    "import networkx as nx\n",
    "import re\n",
    "from eden.util import display\n",
    "\n",
    "class FastaToGraph(object):\n",
    "    def __init__(self):\n",
    "        pass\n",
    "    \n",
    "    def SequeceWrapper(self, path):\n",
    "        #path = \"/home/alsheikm/Work/EDeN_examples/fastaFiles/\"\n",
    "        seq = self._readFastaFile(path)\n",
    "        #seqs = self._removeCommends(seq)\n",
    "        #print (\"path\", path)\n",
    "        return seq\n",
    "    \n",
    "# read a fasta file separate the head and the sequence\n",
    "#    def _readFastaFile(self, file_name):\n",
    "# read a fine not a directory\n",
    "\n",
    "    def _readFastaFile(self, path):\n",
    "#        path = \"/home/alsheikm/Work/EDeN_examples/fastaFiles/\"\n",
    "        head_start = '>'\n",
    "        heads = []\n",
    "        seq = []\n",
    "        seq_temps = []\n",
    "        string_seq = ''\n",
    "        \n",
    "\n",
    "        for file in os.listdir(path):\n",
    "            #open file\n",
    "            read_file = open(os.path.join( path, file),'r')\n",
    "            print file\n",
    "            \n",
    "            # seperate the head and the sequence\n",
    "            for line in read_file:\n",
    "                lines = list(line)\n",
    "                # the read line is the head of the sequence write it in head list\n",
    "                if lines[0] == head_start:\n",
    "                    line = line.split(head_start)\n",
    "                    print line\n",
    "                    #heads.append(line)\n",
    "                    #seq.append(string_seq)\n",
    "                    \n",
    "                    #print ('head')\n",
    "                    \n",
    "                    #print (\"head\", head)\n",
    "\n",
    "                    \n",
    "                    heads.append(line)\n",
    "                    seq.append(string_seq)\n",
    "                    print (\"seq1\", seq)\n",
    "                    seq_temps = []\n",
    "                    #print (\"head\", head)\n",
    "\n",
    "                # the read line is a sequence writ it in a sequence list\n",
    "                if lines[0] != head_start:\n",
    "                    seq_temps.append(line)\n",
    "                    print (\"seq_temps\", seq_temps)\n",
    "                    string_seq= str(seq_temps)\n",
    "                    print (\"string_seq\", string_seq)\n",
    "                    print (\"seq2\", seq)\n",
    "\n",
    "            seq.append(string_seq)      \n",
    "            print ('heads', heads)\n",
    "            print (\"seq\", seq)\n",
    "                    \n",
    "                    \n",
    "                    \n",
    "                    \n",
    "                         ####this commends are not working\n",
    "\n",
    "                    \n",
    "                # the read line is a sequence writ it in a sequence list\n",
    "                #if lines[0] != head_start:\n",
    "                    \n",
    "                    #print ('sequance')\n",
    "                    #seq.append(seq_temp)\n",
    "                    #print ('seq_seq_temp',seq_temp)\n",
    "                    #string_seq = string_seq + line\n",
    "                    #seq2.append(string_seq)                    \n",
    "                    #print (\"string_seq\", string_seq)\n",
    "\n",
    "\n",
    "                    #print (\"seq\", seq)\n",
    "                   \n",
    "                    \n",
    "                    \n",
    "                    #seq_temp.append(line)\n",
    "                    #string_seq= str(seq_temp)\n",
    "                    #print ('########')\n",
    "                #seq_temp.append(string_seq)\n",
    "                #print (\"seq_temp\", seq_temp)\n",
    "                    #seq.append(string_seq)\n",
    "            #seq.append(seq_temp)\n",
    "            #seq_temp = []\n",
    "                #string_seq = ''\n",
    "                    \n",
    "                    \n",
    "                  \n",
    "            #print ('head', heads)\n",
    "            #print (\"seq\", seq)\n",
    "            \n",
    "            return seq, heads\n",
    "    \n",
    "    #read a line ignore string after the whitspace, tab and not (a,c,g,u)\n",
    "    def _removeCommends(self, seq):\n",
    "        seq_list = []\n",
    "        not_added_string = []\n",
    "        input_seqs = seq\n",
    "        seqs = []\n",
    "        \n",
    "        #print (\"string seq2:\", seq)\n",
    "        for seq in input_seqs:\n",
    "            for i, letter in enumerate(seq):\n",
    "                seq = str(seq)                  \n",
    "                if letter == \"A\" or letter == \"C\" or letter == \"G\" or letter == \"U\":\n",
    "            #    if letter == {'a','c','g','u'}:\n",
    "                    letters = list(letter)\n",
    "                    seq_list = seq_list + letters\n",
    "                    #print ('new_seq:', seq_list)\n",
    "                    #print '******'\n",
    "\n",
    "                else:\n",
    "                    if letter == \" \" or letter != \"A\" or letter != \"C\" or letter != \"G\" or letter != \"U\":\n",
    "                        letters = list(letter)\n",
    "                        not_added_string = not_added_string + letters\n",
    "                        #print ('not_added:', not_added)\n",
    "                        #print '-----'\n",
    "        seqs.append(seq_list)\n",
    "        print (\"seqs\",seqs)\n",
    "                #print (\"seq_remove:\",seq)        \n",
    "        print ('final not_added:', not_added_string)\n",
    "        #print ('final seq_list:', seq_list)\n",
    "\n",
    "        return seqs\n",
    "\n",
    "#generate the graph for each read sequence\n",
    "    def _makeFastaGraph(self, seq):\n",
    "        G = nx.Graph()\n",
    "        for j,sequence in enumerate(seq):\n",
    "    #        print ('j', j)\n",
    "            print (\"sequence\", sequence)\n",
    "            sequences = list(sequence)\n",
    "            for i,letter in enumerate(sequences):\n",
    "                G.add_node(i, label = sequences[i])\n",
    "                if i > 0:\n",
    "                    G.add_edge(i-1, i, label = 'x')\n",
    "            return G"
   ]
  },
  {
   "cell_type": "markdown",
   "metadata": {},
   "source": [
    "# Experiment"
   ]
  },
  {
   "cell_type": "code",
   "execution_count": 55,
   "metadata": {
    "collapsed": false
   },
   "outputs": [
    {
     "name": "stdout",
     "output_type": "stream",
     "text": [
      "testfasta~\n",
      "['', 'AB003409.1/96-167\\n']\n",
      "('seq1', [''])\n",
      "('string_seq', \"['GGGCCCAUAGCUCAGUGGUAGAGUGCCUCCUUUGCAAGGAGGAUGCCCUGGGUUCGAAUC comments\\\\n']\")\n",
      "('seq2', [''])\n",
      "('string_seq', \"['GGGCCCAUAGCUCAGUGGUAGAGUGCCUCCUUUGCAAGGAGGAUGCCCUGGGUUCGAAUC comments\\\\n', 'CCAGUGGGUCCA\\\\n']\")\n",
      "('seq2', [''])\n",
      "['', 'AB009835.1/1-71\\n']\n",
      "('seq1', ['', \"['GGGCCCAUAGCUCAGUGGUAGAGUGCCUCCUUUGCAAGGAGGAUGCCCUGGGUUCGAAUC comments\\\\n', 'CCAGUGGGUCCA\\\\n']\"])\n",
      "('string_seq', \"['CAUUAGAUGACUGAAAGCAAGUACUGGUCUCUUAAACCAUUUAAUAGUAAAUUAGCACUU\\\\n']\")\n",
      "('seq2', ['', \"['GGGCCCAUAGCUCAGUGGUAGAGUGCCUCCUUUGCAAGGAGGAUGCCCUGGGUUCGAAUC comments\\\\n', 'CCAGUGGGUCCA\\\\n']\"])\n",
      "('string_seq', \"['CAUUAGAUGACUGAAAGCAAGUACUGGUCUCUUAAACCAUUUAAUAGUAAAUUAGCACUU\\\\n', 'ACUUCUAAUGA\\\\n']\")\n",
      "('seq2', ['', \"['GGGCCCAUAGCUCAGUGGUAGAGUGCCUCCUUUGCAAGGAGGAUGCCCUGGGUUCGAAUC comments\\\\n', 'CCAGUGGGUCCA\\\\n']\"])\n",
      "('heads', [['', 'AB003409.1/96-167\\n'], ['', 'AB009835.1/1-71\\n']])\n",
      "('seq', ['', \"['GGGCCCAUAGCUCAGUGGUAGAGUGCCUCCUUUGCAAGGAGGAUGCCCUGGGUUCGAAUC comments\\\\n', 'CCAGUGGGUCCA\\\\n']\", \"['CAUUAGAUGACUGAAAGCAAGUACUGGUCUCUUAAACCAUUUAAUAGUAAAUUAGCACUU\\\\n', 'ACUUCUAAUGA\\\\n']\"])\n"
     ]
    }
   ],
   "source": [
    "#Read fasta files and separate sequences from the head of the sequence\n",
    "fgraph = FastaToGraph()\n",
    "path = \"/home/alsheikm/Work/EDeN_examples/fasta/\"\n",
    "seqs = fgraph.SequeceWrapper(path)"
   ]
  },
  {
   "cell_type": "code",
   "execution_count": 28,
   "metadata": {
    "collapsed": false
   },
   "outputs": [
    {
     "name": "stdout",
     "output_type": "stream",
     "text": [
      "('sequence', [])\n"
     ]
    },
    {
     "data": {
      "image/png": "[encoded data removed]",
      "text/plain": [
       "<matplotlib.figure.Figure at 0x7f049da15050>"
      ]
     },
     "metadata": {},
     "output_type": "display_data"
    },
    {
     "name": "stdout",
     "output_type": "stream",
     "text": [
      "('sequence', ['', 'AB003409.1/96-167\\n'])\n",
      "Warning: /tmp/tmpJt_D6S: syntax error in line 2 near ']'\n",
      "\n",
      "Graphviz layout with neato failed\n",
      "()\n",
      "To debug what happened try:\n",
      "P=pydot_from_networkx(G)\n",
      "P.write_dot(\"file.dot\")\n",
      "And then run neato on file.dot\n"
     ]
    },
    {
     "ename": "TypeError",
     "evalue": "'NoneType' object has no attribute '__getitem__'",
     "output_type": "error",
     "traceback": [
      "\u001b[1;31m---------------------------------------------------------------------------\u001b[0m",
      "\u001b[1;31mTypeError\u001b[0m                                 Traceback (most recent call last)",
      "\u001b[1;32m<ipython-input-28-64de6eb8c784>\u001b[0m in \u001b[0;36m<module>\u001b[1;34m()\u001b[0m\n\u001b[0;32m      2\u001b[0m \u001b[1;32mfor\u001b[0m \u001b[0mseq\u001b[0m \u001b[1;32min\u001b[0m \u001b[0mseqs\u001b[0m\u001b[1;33m:\u001b[0m\u001b[1;33m\u001b[0m\u001b[0m\n\u001b[0;32m      3\u001b[0m     \u001b[0mG\u001b[0m \u001b[1;33m=\u001b[0m \u001b[0mfgraph\u001b[0m\u001b[1;33m.\u001b[0m\u001b[0m_makeFastaGraph\u001b[0m\u001b[1;33m(\u001b[0m\u001b[0mseq\u001b[0m\u001b[1;33m)\u001b[0m\u001b[1;33m\u001b[0m\u001b[0m\n\u001b[1;32m----> 4\u001b[1;33m     \u001b[0mdisplay\u001b[0m\u001b[1;33m.\u001b[0m\u001b[0mdraw_graph\u001b[0m\u001b[1;33m(\u001b[0m\u001b[0mG\u001b[0m\u001b[1;33m,\u001b[0m \u001b[0mnode_size\u001b[0m\u001b[1;33m=\u001b[0m\u001b[1;36m180\u001b[0m\u001b[1;33m,\u001b[0m \u001b[0mfont_size\u001b[0m\u001b[1;33m=\u001b[0m\u001b[1;36m9\u001b[0m\u001b[1;33m,\u001b[0m \u001b[0mnode_border\u001b[0m\u001b[1;33m=\u001b[0m\u001b[0mTrue\u001b[0m\u001b[1;33m,\u001b[0m \u001b[0mprog\u001b[0m\u001b[1;33m=\u001b[0m\u001b[1;34m'neato'\u001b[0m\u001b[1;33m)\u001b[0m\u001b[1;33m\u001b[0m\u001b[0m\n\u001b[0m",
      "\u001b[1;32m/home/alsheikm/.local/lib/python2.7/site-packages/eden/util/display.pyc\u001b[0m in \u001b[0;36mdraw_graph\u001b[1;34m(graph, vertex_label, secondary_vertex_label, edge_label, secondary_edge_label, vertex_color, vertex_alpha, edge_color, edge_alpha, size, size_x_to_y_ratio, node_size, font_size, layout, prog, node_border, colormap, vmin, vmax, invert_colormap, verbose, file_name, title_key, ignore_for_layout)\u001b[0m\n\u001b[0;32m    121\u001b[0m                            \u001b[0mnode_size\u001b[0m\u001b[1;33m=\u001b[0m\u001b[0mnode_size\u001b[0m\u001b[1;33m,\u001b[0m\u001b[1;33m\u001b[0m\u001b[0m\n\u001b[0;32m    122\u001b[0m                            \u001b[0mlinewidths\u001b[0m\u001b[1;33m=\u001b[0m\u001b[0mlinewidths\u001b[0m\u001b[1;33m,\u001b[0m\u001b[1;33m\u001b[0m\u001b[0m\n\u001b[1;32m--> 123\u001b[1;33m                            cmap=plt.get_cmap(colormap))\n\u001b[0m\u001b[0;32m    124\u001b[0m \u001b[1;33m\u001b[0m\u001b[0m\n\u001b[0;32m    125\u001b[0m     \u001b[1;32mif\u001b[0m \u001b[0mvertex_label\u001b[0m \u001b[1;32mis\u001b[0m \u001b[1;32mnot\u001b[0m \u001b[0mNone\u001b[0m\u001b[1;33m:\u001b[0m\u001b[1;33m\u001b[0m\u001b[0m\n",
      "\u001b[1;32m/home/alsheikm/miniconda2/lib/python2.7/site-packages/networkx/drawing/nx_pylab.pyc\u001b[0m in \u001b[0;36mdraw_networkx_nodes\u001b[1;34m(G, pos, nodelist, node_size, node_color, node_shape, alpha, cmap, vmin, vmax, ax, linewidths, label, **kwds)\u001b[0m\n\u001b[0;32m    380\u001b[0m \u001b[1;33m\u001b[0m\u001b[0m\n\u001b[0;32m    381\u001b[0m     \u001b[1;32mtry\u001b[0m\u001b[1;33m:\u001b[0m\u001b[1;33m\u001b[0m\u001b[0m\n\u001b[1;32m--> 382\u001b[1;33m         \u001b[0mxy\u001b[0m \u001b[1;33m=\u001b[0m \u001b[0mnumpy\u001b[0m\u001b[1;33m.\u001b[0m\u001b[0masarray\u001b[0m\u001b[1;33m(\u001b[0m\u001b[1;33m[\u001b[0m\u001b[0mpos\u001b[0m\u001b[1;33m[\u001b[0m\u001b[0mv\u001b[0m\u001b[1;33m]\u001b[0m \u001b[1;32mfor\u001b[0m \u001b[0mv\u001b[0m \u001b[1;32min\u001b[0m \u001b[0mnodelist\u001b[0m\u001b[1;33m]\u001b[0m\u001b[1;33m)\u001b[0m\u001b[1;33m\u001b[0m\u001b[0m\n\u001b[0m\u001b[0;32m    383\u001b[0m     \u001b[1;32mexcept\u001b[0m \u001b[0mKeyError\u001b[0m \u001b[1;32mas\u001b[0m \u001b[0me\u001b[0m\u001b[1;33m:\u001b[0m\u001b[1;33m\u001b[0m\u001b[0m\n\u001b[0;32m    384\u001b[0m         \u001b[1;32mraise\u001b[0m \u001b[0mnx\u001b[0m\u001b[1;33m.\u001b[0m\u001b[0mNetworkXError\u001b[0m\u001b[1;33m(\u001b[0m\u001b[1;34m'Node %s has no position.'\u001b[0m\u001b[1;33m%\u001b[0m\u001b[0me\u001b[0m\u001b[1;33m)\u001b[0m\u001b[1;33m\u001b[0m\u001b[0m\n",
      "\u001b[1;31mTypeError\u001b[0m: 'NoneType' object has no attribute '__getitem__'"
     ]
    },
    {
     "data": {
      "image/png": "[encoded data removed]",
      "text/plain": [
       "<matplotlib.figure.Figure at 0x7f049da15e90>"
      ]
     },
     "metadata": {},
     "output_type": "display_data"
    }
   ],
   "source": [
    "#generating the graph\n",
    "for seq in seqs:\n",
    "    G = fgraph._makeFastaGraph(seq)\n",
    "    display.draw_graph(G, node_size=180, font_size=9, node_border=True, prog='neato')"
   ]
  },
  {
   "cell_type": "code",
   "execution_count": null,
   "metadata": {
    "collapsed": true
   },
   "outputs": [],
   "source": []
  },
  {
   "cell_type": "code",
   "execution_count": null,
   "metadata": {
    "collapsed": true
   },
   "outputs": [],
   "source": []
  }
 ],
 "metadata": {
  "kernelspec": {
   "display_name": "Python 2",
   "language": "python",
   "name": "python2"
  },
  "language_info": {
   "codemirror_mode": {
    "name": "ipython",
    "version": 2
   },
   "file_extension": ".py",
   "mimetype": "text/x-python",
   "name": "python",
   "nbconvert_exporter": "python",
   "pygments_lexer": "ipython2",
   "version": "2.7.11"
  }
 },
 "nbformat": 4,
 "nbformat_minor": 0
}
