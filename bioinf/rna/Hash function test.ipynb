{
 "cells": [
  {
   "cell_type": "code",
   "execution_count": 1,
   "metadata": {
    "collapsed": false
   },
   "outputs": [
    {
     "name": "stdout",
     "output_type": "stream",
     "text": [
      "999210 1000000 790 0.99921\n",
      "CPU times: user 935 ms, sys: 56.7 ms, total: 992 ms\n",
      "Wall time: 1 s\n"
     ]
    }
   ],
   "source": [
    "%%time\n",
    "from eden import fast_hash_2, fast_hash_4\n",
    "\n",
    "nbits=30\n",
    "bitmask = pow(2, nbits) - 1\n",
    "n=1000\n",
    "res=set()\n",
    "for dat1 in range(n):\n",
    "    for dat2 in range(n):\n",
    "        res.add(fast_hash_4(dat1,dat2,dat1,dat2, bitmask))\n",
    "print len(res),n*n, n*n - len(res), (len(res))/float(n*n) "
   ]
  },
  {
   "cell_type": "code",
   "execution_count": 5,
   "metadata": {
    "collapsed": false
   },
   "outputs": [
    {
     "name": "stdout",
     "output_type": "stream",
     "text": [
      "999210 1000000 790 0.99921\n",
      "CPU times: user 667 ms, sys: 27.2 ms, total: 695 ms\n",
      "Wall time: 681 ms\n"
     ]
    }
   ],
   "source": [
    "%%time\n",
    "# using python hash\n",
    "nbits=30\n",
    "bitmask = pow(2, nbits) - 1\n",
    "n=1000\n",
    "res=set()\n",
    "for dat1 in range(n):\n",
    "    for dat2 in range(n):\n",
    "        res.add(hash((dat1,dat2,dat1,dat2)) & bitmask)\n",
    "print len(res),n*n, n*n - len(res), (len(res))/float(n*n) "
   ]
  },
  {
   "cell_type": "code",
   "execution_count": 7,
   "metadata": {
    "collapsed": false
   },
   "outputs": [
    {
     "name": "stdout",
     "output_type": "stream",
     "text": [
      "999544 1000000 456 0.999544\n"
     ]
    }
   ],
   "source": [
    "def calc_running_hash(running_hash, list_item, counter):\n",
    "    return ((~(((running_hash << 11) + list_item) ^ (running_hash >> 5))), ((running_hash << 7) ^ list_item * (running_hash >> 3)))[bool((counter & 1) == 0)]\n",
    "\n",
    "\n",
    "def fast_hash(vec, bitmask):\n",
    "    running_hash = 0xAAAAAAAA\n",
    "    for i, list_item in enumerate(vec):\n",
    "        running_hash ^= calc_running_hash(running_hash, list_item, i)\n",
    "    return int(running_hash & bitmask) + 1\n",
    "\n",
    "\n",
    "nbits=30\n",
    "bitmask = pow(2, nbits) - 1\n",
    "n=1000\n",
    "res=set()\n",
    "for dat1 in range(n):\n",
    "    for dat2 in range(n):\n",
    "        res.add(fast_hash([dat1,dat2,dat1,dat2],bitmask))\n",
    "print len(res),n*n, n*n - len(res), (len(res))/float(n*n) "
   ]
  },
  {
   "cell_type": "code",
   "execution_count": 8,
   "metadata": {
    "collapsed": false
   },
   "outputs": [
    {
     "name": "stdout",
     "output_type": "stream",
     "text": [
      "999544 1000000 456 0.999544\n",
      "CPU times: user 5.61 s, sys: 199 ms, total: 5.81 s\n",
      "Wall time: 5.68 s\n"
     ]
    }
   ],
   "source": [
    "%%time\n",
    "from eden import fast_hash\n",
    "nbits=30\n",
    "bitmask = pow(2, nbits) - 1\n",
    "n=1000\n",
    "res=set()\n",
    "for dat1 in range(n):\n",
    "    for dat2 in range(n):\n",
    "        res.add(fast_hash([dat1,dat2,dat1,dat2],bitmask))\n",
    "print len(res),n*n, n*n - len(res), (len(res))/float(n*n) "
   ]
  },
  {
   "cell_type": "code",
   "execution_count": null,
   "metadata": {
    "collapsed": true
   },
   "outputs": [],
   "source": []
  }
 ],
 "metadata": {
  "kernelspec": {
   "display_name": "Python 2",
   "language": "python",
   "name": "python2"
  },
  "language_info": {
   "codemirror_mode": {
    "name": "ipython",
    "version": 2
   },
   "file_extension": ".py",
   "mimetype": "text/x-python",
   "name": "python",
   "nbconvert_exporter": "python",
   "pygments_lexer": "ipython2",
   "version": "2.7.10"
  }
 },
 "nbformat": 4,
 "nbformat_minor": 0
}
