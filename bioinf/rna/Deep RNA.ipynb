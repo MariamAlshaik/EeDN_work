{
 "cells": [
  {
   "cell_type": "code",
   "execution_count": 45,
   "metadata": {
    "collapsed": false
   },
   "outputs": [
    {
     "name": "stdout",
     "output_type": "stream",
     "text": [
      "The autoreload extension is already loaded. To reload it, use:\n",
      "  %reload_ext autoreload\n"
     ]
    }
   ],
   "source": [
    "%matplotlib inline\n",
    "%load_ext autoreload\n",
    "%autoreload 2\n",
    "from eden.util import configure_logging\n",
    "import logging\n",
    "logger = logging.getLogger()\n",
    "configure_logging(logger,verbosity=0)"
   ]
  },
  {
   "cell_type": "code",
   "execution_count": 46,
   "metadata": {
    "collapsed": true
   },
   "outputs": [],
   "source": [
    "import cPickle as pickle\n",
    "def save_data(data, fname='data.dat'):\n",
    "    with open(fname, 'wb') as outfile:\n",
    "        pickle.dump(data, outfile, pickle.HIGHEST_PROTOCOL)\n",
    "    if len(data.shape)==1:\n",
    "        print 'Saved %s (%d)' % (fname, data.shape[0])\n",
    "    else:\n",
    "        print 'Saved %s (%d,%d)' % (fname, data.shape[0], data.shape[1])\n",
    "\n",
    "def load_data(fname='data.dat'):\n",
    "    with open(fname, 'rb') as infile:\n",
    "        data = pickle.load(infile)\n",
    "    if len(data.shape)==1:\n",
    "        print 'Loaded %s (%d)' % (fname, data.shape[0])\n",
    "    else:\n",
    "        print 'Loaded %s (%d,%d)' % (fname, data.shape[0], data.shape[1])\n",
    "    return data"
   ]
  },
  {
   "cell_type": "markdown",
   "metadata": {},
   "source": [
    "#Predicitve model performance evaluation"
   ]
  },
  {
   "cell_type": "code",
   "execution_count": 47,
   "metadata": {
    "collapsed": false
   },
   "outputs": [],
   "source": [
    "def train_perform(X_train, y_train, X_test,y_test):\n",
    "    # Induce a predictive model\n",
    "    print 'Training on data matrix [%d x %d]' %(X_train.shape)\n",
    "    from sklearn.linear_model import SGDClassifier\n",
    "    estimator = SGDClassifier(average=True, class_weight='auto', shuffle=True, n_jobs=-1)\n",
    "    estimator.fit(X_train,y_train)\n",
    "\n",
    "    # Print predictive performance\n",
    "    from sklearn.metrics import confusion_matrix\n",
    "    print 'Confusion matrix:'\n",
    "    print(confusion_matrix(y_test, estimator.predict(X_test)))\n",
    "    print\n",
    "    from sklearn.metrics import classification_report\n",
    "    print 'Classification Report:'\n",
    "    print classification_report(y_test, estimator.predict(X_test))"
   ]
  },
  {
   "cell_type": "markdown",
   "metadata": {},
   "source": [
    "#Data preparation"
   ]
  },
  {
   "cell_type": "markdown",
   "metadata": {},
   "source": [
    "Split data into train/test according to binary clustering"
   ]
  },
  {
   "cell_type": "code",
   "execution_count": 48,
   "metadata": {
    "collapsed": false
   },
   "outputs": [],
   "source": [
    "def train_test_ids_split(X, confidence_threshold=1):\n",
    "    from sklearn.cluster import MiniBatchKMeans\n",
    "    kmeans = MiniBatchKMeans(n_clusters=2)\n",
    "    classes = kmeans.fit_predict(X)\n",
    "    \n",
    "    from sklearn.linear_model import SGDClassifier\n",
    "    estimator = SGDClassifier(average=True, class_weight='auto', shuffle=True, n_jobs=-1)\n",
    "    estimator.fit(X,classes)\n",
    "    conf = estimator.decision_function(X)\n",
    "    \n",
    "    train_ids = []\n",
    "    test_ids = []\n",
    "    for i,(class_info, conf_info) in enumerate(zip(classes, conf)):\n",
    "        if abs(conf_info) > confidence_threshold:\n",
    "            if class_info == 0:\n",
    "                train_ids.append(i)\n",
    "            else:\n",
    "                test_ids.append(i)\n",
    "    return train_ids, test_ids"
   ]
  },
  {
   "cell_type": "markdown",
   "metadata": {},
   "source": [
    "Retrieve seed sequences from RFam families.\n",
    "\n",
    "Use EDeN to transform sequences to vectors. Use RNAfold to create structures and EDeN to convert those to vectors.\n",
    "\n",
    "Use the sequence vectors to guide the train/test split. "
   ]
  },
  {
   "cell_type": "code",
   "execution_count": 49,
   "metadata": {
    "collapsed": false
   },
   "outputs": [
    {
     "name": "stdout",
     "output_type": "stream",
     "text": [
      "num families: 23\n"
     ]
    }
   ],
   "source": [
    "from sklearn.random_projection import SparseRandomProjection\n",
    "import time\n",
    "\n",
    "def rfam_uri(family_id):\n",
    "        return 'http://rfam.xfam.org/family/%s/alignment?acc=%s&format=fastau&download=0'%(family_id,family_id)\n",
    "\n",
    "#RNAfold\n",
    "def pre_processor(seqs):\n",
    "    from eden.converter.rna.rnafold import rnafold_to_eden\n",
    "    graphs = rnafold_to_eden(seqs)\n",
    "    from eden.modifier.graph import structure \n",
    "    graphs = structure.basepair_to_nesting(graphs)\n",
    "    return graphs\n",
    "\n",
    "    \n",
    "#RNAVectorizer\n",
    "def pre_processor(seqs):\n",
    "    n_neighbors = min(len(seqs),30)\n",
    "    rs = int(time.time())\n",
    "    from eden.RNA import Vectorizer as RNAVectorizer\n",
    "    rnavec=RNAVectorizer(n_neighbors=n_neighbors,\n",
    "                         sampling_prob=.15,\n",
    "                         n_iter=5,\n",
    "                         min_energy=-5,\n",
    "                         random_state=rs)\n",
    "    rnavec.fit(seqs)\n",
    "    graphs = rnavec.graphs(seqs)\n",
    "    from eden.modifier.graph import structure \n",
    "    graphs = structure.basepair_to_nesting(graphs)\n",
    "    return graphs\n",
    "\n",
    "\n",
    "def rfam_to_matrix(rfam_id, use_structure=True, n_max=50, complexity=2, nbits=10):\n",
    "    from eden.converter.fasta import fasta_to_sequence\n",
    "    seqs = fasta_to_sequence(rfam_uri(rfam_id))\n",
    "    from itertools import islice\n",
    "    seqs = islice(seqs,n_max)\n",
    "    seqs = list(seqs)\n",
    "    if use_structure:\n",
    "        graphs = pre_processor(seqs)\n",
    "        from eden.graph import Vectorizer as GraphVectorizer\n",
    "        vectorizer = GraphVectorizer(r=3,d=0,min_r=3,\n",
    "                                     normalization=False,\n",
    "                                     inner_normalization=False,\n",
    "                                     nbits=nbits)\n",
    "        X = vectorizer.transform(graphs)\n",
    "    else:\n",
    "        from eden.path import Vectorizer as SeqVectorizer\n",
    "        vectorizer = SeqVectorizer(r=3,d=20,min_r=3,\n",
    "                                   normalization=False,\n",
    "                                   inner_normalization=False,\n",
    "                                   nbits=nbits)\n",
    "        X = vectorizer.transform(seqs)\n",
    "    return X\n",
    "\n",
    "def rfam_data(rfam_ids, n_max=300, complexity=3, nbits=13):\n",
    "    import numpy as np\n",
    "    from scipy.sparse import vstack\n",
    "    seq_train_list = []\n",
    "    seq_test_list = []\n",
    "    struct_train_list = []\n",
    "    struct_test_list = []\n",
    "    y_train = []\n",
    "    y_test = []\n",
    "    for i,rfam_id in enumerate(rfam_ids):\n",
    "        # seq case\n",
    "        seq_X=rfam_to_matrix(rfam_id, use_structure=False, n_max=n_max, complexity=complexity, nbits=nbits)\n",
    "        train_ids, test_ids = train_test_ids_split(seq_X)\n",
    "        seq_X_train = seq_X[train_ids]\n",
    "        seq_X_test = seq_X[test_ids]\n",
    "        seq_train_list.append(seq_X_train)\n",
    "        seq_test_list.append(seq_X_test)\n",
    "        y_train += [i] * seq_X_train.shape[0]\n",
    "        y_test += [i] * seq_X_test.shape[0]\n",
    "        \n",
    "        # struct case\n",
    "        struct_X=rfam_to_matrix(rfam_id, use_structure=True, n_max=n_max, complexity=complexity, nbits=nbits)\n",
    "        #NOTE: use the same split given by the sequence similarity\n",
    "        struct_X_train = struct_X[train_ids]\n",
    "        struct_X_test = struct_X[test_ids]\n",
    "        struct_train_list.append(struct_X_train)\n",
    "        struct_test_list.append(struct_X_test)\n",
    "    seq_X_train = vstack(seq_train_list, format=\"csr\")\n",
    "    seq_X_test = vstack(seq_test_list, format=\"csr\")\n",
    "    struct_X_train = vstack(struct_train_list, format=\"csr\")\n",
    "    struct_X_test = vstack(struct_test_list, format=\"csr\")\n",
    "    target_train = np.array(y_train)\n",
    "    target_test = np.array(y_test)\n",
    "    \n",
    "    return seq_X_train,\\\n",
    "        seq_X_test,\\\n",
    "        struct_X_train,\\\n",
    "        struct_X_test,\\\n",
    "        target_train,\\\n",
    "        target_test\n",
    "\n",
    "rfam_ids=['RF00004','RF00005','RF00015','RF00020','RF00026','RF00169',\n",
    "          'RF00380','RF00386','RF01051','RF01055','RF01234','RF01699',\n",
    "          'RF01701','RF01705','RF01731','RF01734','RF01745','RF01750',\n",
    "          'RF01942','RF01998','RF02005','RF02012','RF02034']\n",
    "\n",
    "print 'num families:', len(rfam_ids)"
   ]
  },
  {
   "cell_type": "code",
   "execution_count": 50,
   "metadata": {
    "collapsed": false,
    "scrolled": false
   },
   "outputs": [
    {
     "name": "stdout",
     "output_type": "stream",
     "text": [
      "Experiment using 20 families\n"
     ]
    }
   ],
   "source": [
    "data_ids=rfam_ids[0:20]\n",
    "print 'Experiment using %d families' % len(data_ids)\n",
    "prefix='f3_c4nb12_'"
   ]
  },
  {
   "cell_type": "code",
   "execution_count": 51,
   "metadata": {
    "collapsed": false,
    "scrolled": false
   },
   "outputs": [
    {
     "name": "stdout",
     "output_type": "stream",
     "text": [
      "CPU times: user 5min 34s, sys: 4min 4s, total: 9min 38s\n",
      "Wall time: 28min 56s\n"
     ]
    }
   ],
   "source": [
    "%%time\n",
    "seq_X_train,\\\n",
    "seq_X_test,\\\n",
    "struct_X_train,\\\n",
    "struct_X_test,\\\n",
    "y_train,\\\n",
    "y_test = rfam_data(data_ids, n_max=300, complexity=4, nbits=11)"
   ]
  },
  {
   "cell_type": "code",
   "execution_count": 52,
   "metadata": {
    "collapsed": false
   },
   "outputs": [
    {
     "name": "stdout",
     "output_type": "stream",
     "text": [
      "Saved f3_c4nb12_seq_X_train.dat (1811,2049)\n",
      "Saved f3_c4nb12_seq_X_test.dat (2224,2049)\n",
      "Saved f3_c4nb12_struct_X_train.dat (1811,2049)\n",
      "Saved f3_c4nb12_struct_X_test.dat (2224,2049)\n",
      "Saved f3_c4nb12_y_train.dat (1811)\n",
      "Saved f3_c4nb12_y_test.dat (2224)\n",
      "CPU times: user 24.1 ms, sys: 134 ms, total: 158 ms\n",
      "Wall time: 483 ms\n"
     ]
    }
   ],
   "source": [
    "%%time\n",
    "save_data(seq_X_train, fname=prefix+'seq_X_train.dat')\n",
    "save_data(seq_X_test, fname=prefix+'seq_X_test.dat')\n",
    "save_data(struct_X_train, fname=prefix+'struct_X_train.dat')\n",
    "save_data(struct_X_test, fname=prefix+'struct_X_test.dat')\n",
    "save_data(y_train, fname=prefix+'y_train.dat')\n",
    "save_data(y_test, fname=prefix+'y_test.dat')"
   ]
  },
  {
   "cell_type": "code",
   "execution_count": 53,
   "metadata": {
    "collapsed": false
   },
   "outputs": [
    {
     "name": "stdout",
     "output_type": "stream",
     "text": [
      "Loaded f3_c4nb12_seq_X_train.dat (1811,2049)\n",
      "Loaded f3_c4nb12_seq_X_test.dat (2224,2049)\n",
      "Loaded f3_c4nb12_struct_X_train.dat (1811,2049)\n",
      "Loaded f3_c4nb12_struct_X_test.dat (2224,2049)\n",
      "Loaded f3_c4nb12_y_train.dat (1811)\n",
      "Loaded f3_c4nb12_y_test.dat (2224)\n",
      "CPU times: user 27.2 ms, sys: 56.5 ms, total: 83.7 ms\n",
      "Wall time: 82.9 ms\n"
     ]
    }
   ],
   "source": [
    "%%time\n",
    "seq_X_train=load_data(fname=prefix+'seq_X_train.dat')\n",
    "seq_X_test=load_data(fname=prefix+'seq_X_test.dat')\n",
    "struct_X_train=load_data(fname=prefix+'struct_X_train.dat')\n",
    "struct_X_test=load_data(fname=prefix+'struct_X_test.dat')\n",
    "y_train=load_data(fname=prefix+'y_train.dat')\n",
    "y_test=load_data(fname=prefix+'y_test.dat')"
   ]
  },
  {
   "cell_type": "code",
   "execution_count": 54,
   "metadata": {
    "collapsed": false
   },
   "outputs": [
    {
     "name": "stdout",
     "output_type": "stream",
     "text": [
      "CPU times: user 67 µs, sys: 7.02 ms, total: 7.09 ms\n",
      "Wall time: 7.1 ms\n"
     ]
    }
   ],
   "source": [
    "%%time\n",
    "# sparse to dense arrays\n",
    "Xseq_train = seq_X_train\n",
    "Xseq_test = seq_X_test\n",
    "X_train = struct_X_train\n",
    "X_test = struct_X_test"
   ]
  },
  {
   "cell_type": "code",
   "execution_count": 55,
   "metadata": {
    "collapsed": false
   },
   "outputs": [
    {
     "name": "stdout",
     "output_type": "stream",
     "text": [
      "CPU times: user 60.5 ms, sys: 44.1 ms, total: 105 ms\n",
      "Wall time: 141 ms\n"
     ]
    }
   ],
   "source": [
    "%%time\n",
    "# sparse to dense arrays\n",
    "Xseq_train = seq_X_train.toarray()\n",
    "Xseq_test = seq_X_test.toarray()\n",
    "X_train = struct_X_train.toarray()\n",
    "X_test = struct_X_test.toarray()"
   ]
  },
  {
   "cell_type": "markdown",
   "metadata": {},
   "source": [
    "#Sequence features"
   ]
  },
  {
   "cell_type": "code",
   "execution_count": 56,
   "metadata": {
    "collapsed": false
   },
   "outputs": [
    {
     "name": "stdout",
     "output_type": "stream",
     "text": [
      "Training on data matrix [1811 x 2049]\n",
      "Confusion matrix:\n",
      "[[ 26   0   0   0   0   0   0   6   0   0   0   0   0   0   0   0   0   0\n",
      "    0   0]\n",
      " [  0  13   1   1   1   0   4  59   0   1   1   1   3   1   1   0   0   0\n",
      "    0   0]\n",
      " [  0   0   1   0   0   0   0 108   0   0   0   0   0   0   0   0   0   0\n",
      "    0   0]\n",
      " [  0   0   0  34   0   0   0   0   0   0   0   0   0   0   0   0   0   0\n",
      "    0   0]\n",
      " [  0   0   0   0  26   0   1 128   0   0   0   2   0   0   0   0   0   0\n",
      "    0   0]\n",
      " [  0  10   0   0   0  17   0 172   0   2   0   0  20   1   1   0   0   0\n",
      "    0   0]\n",
      " [  0   0   0   0   0   0  14 110   1   0   0   0   0   0   0   0   0   0\n",
      "    0   0]\n",
      " [  0   0   0   0   0   0   0  68   0   0   0   0   0   0   0   0   0   0\n",
      "    0   0]\n",
      " [  0   1   0   0   0   0   2 112   8   0   0   2   4   0   2   0   0   0\n",
      "    0   0]\n",
      " [  0   0   0   0   0   0   0 108   0   6   0   0   0   0   0   0   0   0\n",
      "    0   0]\n",
      " [  0   0   0   0   0   0   0  40   0   0  64   0   0   0   0   0   0   0\n",
      "    0   0]\n",
      " [  0   0   0   0   0   0   0  10   0   0   0  38   0   0   0   0   0   0\n",
      "    0   0]\n",
      " [  0   0   0   0   0   0   0   0   0   0   0   0  85   0   0   0   0   0\n",
      "    0   0]\n",
      " [  0   5   0   0   0   0   0  30   0   0   0   0   0  84   1   0   0   0\n",
      "    0   0]\n",
      " [  0   1   0   0   0   0   0   3   2   0   0   0   0   0   6   0   0   0\n",
      "    0   0]\n",
      " [  0  31   0   1   4   0   1 211   1   3   1   0   1   2   4   7   0   2\n",
      "    0   0]\n",
      " [  0   0   0   0   0   0   0  79   0   0   0   0   0   0   0   0   5   0\n",
      "    0   0]\n",
      " [  0   2   1   0   0   0   0 105   0   2   0   5   5   0   3   0   0  39\n",
      "    0   0]\n",
      " [  0   0   0   0   0   0   0  38   0   0   0   0   0   0   0   0   0   0\n",
      "    9   0]\n",
      " [  0   1   0   0   0   1   0 189   0   3   2   1   4   0   2   0   0   0\n",
      "    0  10]]\n",
      "\n",
      "Classification Report:\n",
      "             precision    recall  f1-score   support\n",
      "\n",
      "          0       1.00      0.81      0.90        32\n",
      "          1       0.20      0.15      0.17        87\n",
      "          2       0.33      0.01      0.02       109\n",
      "          3       0.94      1.00      0.97        34\n",
      "          4       0.84      0.17      0.28       157\n",
      "          5       0.94      0.08      0.14       223\n",
      "          6       0.64      0.11      0.19       125\n",
      "          7       0.04      1.00      0.08        68\n",
      "          8       0.67      0.06      0.11       131\n",
      "          9       0.35      0.05      0.09       114\n",
      "         10       0.94      0.62      0.74       104\n",
      "         11       0.78      0.79      0.78        48\n",
      "         12       0.70      1.00      0.82        85\n",
      "         13       0.95      0.70      0.81       120\n",
      "         14       0.30      0.50      0.37        12\n",
      "         15       1.00      0.03      0.05       269\n",
      "         16       1.00      0.06      0.11        84\n",
      "         17       0.95      0.24      0.38       162\n",
      "         18       1.00      0.19      0.32        47\n",
      "         19       1.00      0.05      0.09       213\n",
      "\n",
      "avg / total       0.79      0.25      0.28      2224\n",
      "\n",
      "CPU times: user 1.42 s, sys: 32.4 ms, total: 1.45 s\n",
      "Wall time: 368 ms\n"
     ]
    }
   ],
   "source": [
    "%%time\n",
    "train_perform(Xseq_train, y_train, Xseq_test,y_test)"
   ]
  },
  {
   "cell_type": "markdown",
   "metadata": {},
   "source": [
    "#Structure features"
   ]
  },
  {
   "cell_type": "code",
   "execution_count": 57,
   "metadata": {
    "collapsed": false
   },
   "outputs": [
    {
     "name": "stdout",
     "output_type": "stream",
     "text": [
      "Training on data matrix [1811 x 2049]\n",
      "Confusion matrix:\n",
      "[[32  0  0  0  0  0  0  0  0  0  0  0  0  0  0  0  0  0  0  0]\n",
      " [ 3 31  4  9  9  0  2  0  0  1  0  1  9  5  5  1  1  0  6  0]\n",
      " [ 4 23  9  4  0  0  0 29  0  1  0  8  5  1 20  0  2  0  3  0]\n",
      " [ 0  0  0 34  0  0  0  0  0  0  0  0  0  0  0  0  0  0  0  0]\n",
      " [ 2 39  0  0 95  0  4  0  2  0  1  2  4  1  4  0  0  0  3  0]\n",
      " [12 46  1 12  2 27  4 10  0  0  9  4 52  6  4  0  1  3 26  4]\n",
      " [ 0 16  0  0  1  5 39  1  0  0  0 10  9  1 30  0  2  0 11  0]\n",
      " [ 3  1  0  0  0  1  0 61  0  0  0  0  1  0  0  0  0  0  1  0]\n",
      " [ 0  9  1  1 15  2  7  0  7  1  6 38 20  7  4  0  2  2  8  1]\n",
      " [ 2 34  1 12  2  2  0  7  0  1  2  2  4  5 27  0  0  1  9  3]\n",
      " [ 0  0  0  0  0  0  0  1  0  0 97  0  1  0  0  0  0  0  5  0]\n",
      " [ 0  0  0  0  0  0  3  0  0  0  0 45  0  0  0  0  0  0  0  0]\n",
      " [ 0  0  0  0  0  0  0  0  0  0  0  0 85  0  0  0  0  0  0  0]\n",
      " [ 3  9  0  0  1  0  0  0  0  3  0  0  2 96  0  0  1  1  4  0]\n",
      " [ 0  0  0  1  0  2  0  2  0  0  0  0  1  0  6  0  0  0  0  0]\n",
      " [ 6 92 22 10  6  4  5  9  0  0  0 10  9  2  3  5 17  7 34 28]\n",
      " [ 0  5  0  0  0  0  4  0  0  0  0  6  4  0 15  0 49  0  1  0]\n",
      " [ 2  5  1  3  0 21  3 32  0  0  1 20  8  1 10  0  8 41  4  2]\n",
      " [ 0  0  0  0  0  0  0  0  0  0  0  0  0  0  0  0  0  0 47  0]\n",
      " [ 0 20  1  1  0 10  5  2  0  0  2 52 24  1 17  0  5  1 29 43]]\n",
      "\n",
      "Classification Report:\n",
      "             precision    recall  f1-score   support\n",
      "\n",
      "          0       0.46      1.00      0.63        32\n",
      "          1       0.09      0.36      0.15        87\n",
      "          2       0.23      0.08      0.12       109\n",
      "          3       0.39      1.00      0.56        34\n",
      "          4       0.73      0.61      0.66       157\n",
      "          5       0.36      0.12      0.18       223\n",
      "          6       0.51      0.31      0.39       125\n",
      "          7       0.40      0.90      0.55        68\n",
      "          8       0.78      0.05      0.10       131\n",
      "          9       0.14      0.01      0.02       114\n",
      "         10       0.82      0.93      0.87       104\n",
      "         11       0.23      0.94      0.37        48\n",
      "         12       0.36      1.00      0.53        85\n",
      "         13       0.76      0.80      0.78       120\n",
      "         14       0.04      0.50      0.08        12\n",
      "         15       0.83      0.02      0.04       269\n",
      "         16       0.56      0.58      0.57        84\n",
      "         17       0.73      0.25      0.38       162\n",
      "         18       0.25      1.00      0.39        47\n",
      "         19       0.53      0.20      0.29       213\n",
      "\n",
      "avg / total       0.54      0.38      0.34      2224\n",
      "\n",
      "CPU times: user 1.39 s, sys: 13.4 ms, total: 1.4 s\n",
      "Wall time: 376 ms\n"
     ]
    }
   ],
   "source": [
    "%%time\n",
    "train_perform(X_train, y_train, X_test,y_test)"
   ]
  },
  {
   "cell_type": "markdown",
   "metadata": {},
   "source": [
    "#Learned map seq $\\mapsto$ structure features"
   ]
  },
  {
   "cell_type": "code",
   "execution_count": 58,
   "metadata": {
    "collapsed": false
   },
   "outputs": [
    {
     "name": "stdout",
     "output_type": "stream",
     "text": [
      "n_neurons: #in [2049] -- #hidden [4098] -- #out [2049]\n"
     ]
    }
   ],
   "source": [
    "from sklearn.preprocessing import StandardScaler\n",
    "seqs_scale = StandardScaler(with_mean=True)\n",
    "data_matrix_in = seqs_scale.fit_transform(Xseq_train)\n",
    "struct_scale = StandardScaler(with_mean=True)\n",
    "data_matrix_out = struct_scale.fit_transform(X_train)\n",
    "n_features_in = data_matrix_in.shape[1]\n",
    "n_features_out = data_matrix_out.shape[1]\n",
    "n_features_hidden = max(n_features_in, n_features_out) * 2\n",
    "print 'n_neurons: #in [%d] -- #hidden [%d] -- #out [%d]' % (n_features_in, n_features_hidden, n_features_out)"
   ]
  },
  {
   "cell_type": "code",
   "execution_count": 59,
   "metadata": {
    "collapsed": false
   },
   "outputs": [],
   "source": [
    "from sknn.mlp import Regressor, Layer\n",
    "\n",
    "net = Regressor(layers=[\n",
    "        Layer(\"Rectifier\", units=n_features_hidden),\n",
    "        Layer(\"Rectifier\", units=n_features_hidden),\n",
    "        Layer(\"Rectifier\", units=n_features_hidden),\n",
    "        Layer(\"Softmax\", units=n_features_out)],\n",
    "                learning_rate=0.000001,\n",
    "                n_iter=100,\n",
    "                regularize='L1',\n",
    "                valid_size=0.2)"
   ]
  },
  {
   "cell_type": "code",
   "execution_count": 60,
   "metadata": {
    "collapsed": false
   },
   "outputs": [
    {
     "name": "stdout",
     "output_type": "stream",
     "text": [
      "\n",
      "\u001b[0;31mA runtime exception was caught during training. This likely occurred due to\n",
      "a divergence of the SGD algorithm, and NaN floats were found by PyLearn2.\u001b[0m\n",
      "\n",
      "Try setting the `learning_rate` 10x lower to resolve this, for example:\n",
      "    learning_rate=0.000000\n",
      "\n"
     ]
    },
    {
     "ename": "RuntimeError",
     "evalue": "NaN in hidden0_W",
     "output_type": "error",
     "traceback": [
      "\u001b[0;31m---------------------------------------------------------------------------\u001b[0m",
      "\u001b[0;31mRuntimeError\u001b[0m                              Traceback (most recent call last)",
      "\u001b[0;32m<ipython-input-60-04c597446e06>\u001b[0m in \u001b[0;36m<module>\u001b[0;34m()\u001b[0m\n\u001b[0;32m----> 1\u001b[0;31m \u001b[0mget_ipython\u001b[0m\u001b[0;34m(\u001b[0m\u001b[0;34m)\u001b[0m\u001b[0;34m.\u001b[0m\u001b[0mrun_cell_magic\u001b[0m\u001b[0;34m(\u001b[0m\u001b[0;34mu'time'\u001b[0m\u001b[0;34m,\u001b[0m \u001b[0;34mu''\u001b[0m\u001b[0;34m,\u001b[0m \u001b[0;34mu'net.fit(data_matrix_in, data_matrix_out)'\u001b[0m\u001b[0;34m)\u001b[0m\u001b[0;34m\u001b[0m\u001b[0m\n\u001b[0m",
      "\u001b[0;32m/Library/Python/2.7/site-packages/IPython/core/interactiveshell.pyc\u001b[0m in \u001b[0;36mrun_cell_magic\u001b[0;34m(self, magic_name, line, cell)\u001b[0m\n\u001b[1;32m   2262\u001b[0m             \u001b[0mmagic_arg_s\u001b[0m \u001b[0;34m=\u001b[0m \u001b[0mself\u001b[0m\u001b[0;34m.\u001b[0m\u001b[0mvar_expand\u001b[0m\u001b[0;34m(\u001b[0m\u001b[0mline\u001b[0m\u001b[0;34m,\u001b[0m \u001b[0mstack_depth\u001b[0m\u001b[0;34m)\u001b[0m\u001b[0;34m\u001b[0m\u001b[0m\n\u001b[1;32m   2263\u001b[0m             \u001b[0;32mwith\u001b[0m \u001b[0mself\u001b[0m\u001b[0;34m.\u001b[0m\u001b[0mbuiltin_trap\u001b[0m\u001b[0;34m:\u001b[0m\u001b[0;34m\u001b[0m\u001b[0m\n\u001b[0;32m-> 2264\u001b[0;31m                 \u001b[0mresult\u001b[0m \u001b[0;34m=\u001b[0m \u001b[0mfn\u001b[0m\u001b[0;34m(\u001b[0m\u001b[0mmagic_arg_s\u001b[0m\u001b[0;34m,\u001b[0m \u001b[0mcell\u001b[0m\u001b[0;34m)\u001b[0m\u001b[0;34m\u001b[0m\u001b[0m\n\u001b[0m\u001b[1;32m   2265\u001b[0m             \u001b[0;32mreturn\u001b[0m \u001b[0mresult\u001b[0m\u001b[0;34m\u001b[0m\u001b[0m\n\u001b[1;32m   2266\u001b[0m \u001b[0;34m\u001b[0m\u001b[0m\n",
      "\u001b[0;32m/Library/Python/2.7/site-packages/IPython/core/magics/execution.pyc\u001b[0m in \u001b[0;36mtime\u001b[0;34m(self, line, cell, local_ns)\u001b[0m\n",
      "\u001b[0;32m/Library/Python/2.7/site-packages/IPython/core/magic.pyc\u001b[0m in \u001b[0;36m<lambda>\u001b[0;34m(f, *a, **k)\u001b[0m\n\u001b[1;32m    191\u001b[0m     \u001b[0;31m# but it's overkill for just that one bit of state.\u001b[0m\u001b[0;34m\u001b[0m\u001b[0;34m\u001b[0m\u001b[0m\n\u001b[1;32m    192\u001b[0m     \u001b[0;32mdef\u001b[0m \u001b[0mmagic_deco\u001b[0m\u001b[0;34m(\u001b[0m\u001b[0marg\u001b[0m\u001b[0;34m)\u001b[0m\u001b[0;34m:\u001b[0m\u001b[0;34m\u001b[0m\u001b[0m\n\u001b[0;32m--> 193\u001b[0;31m         \u001b[0mcall\u001b[0m \u001b[0;34m=\u001b[0m \u001b[0;32mlambda\u001b[0m \u001b[0mf\u001b[0m\u001b[0;34m,\u001b[0m \u001b[0;34m*\u001b[0m\u001b[0ma\u001b[0m\u001b[0;34m,\u001b[0m \u001b[0;34m**\u001b[0m\u001b[0mk\u001b[0m\u001b[0;34m:\u001b[0m \u001b[0mf\u001b[0m\u001b[0;34m(\u001b[0m\u001b[0;34m*\u001b[0m\u001b[0ma\u001b[0m\u001b[0;34m,\u001b[0m \u001b[0;34m**\u001b[0m\u001b[0mk\u001b[0m\u001b[0;34m)\u001b[0m\u001b[0;34m\u001b[0m\u001b[0m\n\u001b[0m\u001b[1;32m    194\u001b[0m \u001b[0;34m\u001b[0m\u001b[0m\n\u001b[1;32m    195\u001b[0m         \u001b[0;32mif\u001b[0m \u001b[0mcallable\u001b[0m\u001b[0;34m(\u001b[0m\u001b[0marg\u001b[0m\u001b[0;34m)\u001b[0m\u001b[0;34m:\u001b[0m\u001b[0;34m\u001b[0m\u001b[0m\n",
      "\u001b[0;32m/Library/Python/2.7/site-packages/IPython/core/magics/execution.pyc\u001b[0m in \u001b[0;36mtime\u001b[0;34m(self, line, cell, local_ns)\u001b[0m\n\u001b[1;32m   1160\u001b[0m         \u001b[0;32mif\u001b[0m \u001b[0mmode\u001b[0m\u001b[0;34m==\u001b[0m\u001b[0;34m'eval'\u001b[0m\u001b[0;34m:\u001b[0m\u001b[0;34m\u001b[0m\u001b[0m\n\u001b[1;32m   1161\u001b[0m             \u001b[0mst\u001b[0m \u001b[0;34m=\u001b[0m \u001b[0mclock2\u001b[0m\u001b[0;34m(\u001b[0m\u001b[0;34m)\u001b[0m\u001b[0;34m\u001b[0m\u001b[0m\n\u001b[0;32m-> 1162\u001b[0;31m             \u001b[0mout\u001b[0m \u001b[0;34m=\u001b[0m \u001b[0meval\u001b[0m\u001b[0;34m(\u001b[0m\u001b[0mcode\u001b[0m\u001b[0;34m,\u001b[0m \u001b[0mglob\u001b[0m\u001b[0;34m,\u001b[0m \u001b[0mlocal_ns\u001b[0m\u001b[0;34m)\u001b[0m\u001b[0;34m\u001b[0m\u001b[0m\n\u001b[0m\u001b[1;32m   1163\u001b[0m             \u001b[0mend\u001b[0m \u001b[0;34m=\u001b[0m \u001b[0mclock2\u001b[0m\u001b[0;34m(\u001b[0m\u001b[0;34m)\u001b[0m\u001b[0;34m\u001b[0m\u001b[0m\n\u001b[1;32m   1164\u001b[0m         \u001b[0;32melse\u001b[0m\u001b[0;34m:\u001b[0m\u001b[0;34m\u001b[0m\u001b[0m\n",
      "\u001b[0;32m<timed eval>\u001b[0m in \u001b[0;36m<module>\u001b[0;34m()\u001b[0m\n",
      "\u001b[0;32m/Library/Python/2.7/site-packages/sknn/mlp.pyc\u001b[0m in \u001b[0;36mfit\u001b[0;34m(self, X, y)\u001b[0m\n\u001b[1;32m    200\u001b[0m             \u001b[0mReturns\u001b[0m \u001b[0mthis\u001b[0m \u001b[0minstance\u001b[0m\u001b[0;34m.\u001b[0m\u001b[0;34m\u001b[0m\u001b[0m\n\u001b[1;32m    201\u001b[0m         \"\"\"\n\u001b[0;32m--> 202\u001b[0;31m         \u001b[0;32mreturn\u001b[0m \u001b[0msuper\u001b[0m\u001b[0;34m(\u001b[0m\u001b[0mRegressor\u001b[0m\u001b[0;34m,\u001b[0m \u001b[0mself\u001b[0m\u001b[0;34m)\u001b[0m\u001b[0;34m.\u001b[0m\u001b[0m_fit\u001b[0m\u001b[0;34m(\u001b[0m\u001b[0mX\u001b[0m\u001b[0;34m,\u001b[0m \u001b[0my\u001b[0m\u001b[0;34m)\u001b[0m\u001b[0;34m\u001b[0m\u001b[0m\n\u001b[0m\u001b[1;32m    203\u001b[0m \u001b[0;34m\u001b[0m\u001b[0m\n\u001b[1;32m    204\u001b[0m     \u001b[0;32mdef\u001b[0m \u001b[0mpredict\u001b[0m\u001b[0;34m(\u001b[0m\u001b[0mself\u001b[0m\u001b[0;34m,\u001b[0m \u001b[0mX\u001b[0m\u001b[0;34m)\u001b[0m\u001b[0;34m:\u001b[0m\u001b[0;34m\u001b[0m\u001b[0m\n",
      "\u001b[0;32m/Library/Python/2.7/site-packages/sknn/mlp.pyc\u001b[0m in \u001b[0;36m_fit\u001b[0;34m(self, X, y)\u001b[0m\n\u001b[1;32m    155\u001b[0m                 \u001b[0;34m\"Try setting the `learning_rate` 10x lower to resolve this, for example:\\n\"\u001b[0m\u001b[0;34m\u001b[0m\u001b[0m\n\u001b[1;32m    156\u001b[0m                 \"    learning_rate=%f\" % (self.learning_rate * 0.1)))\n\u001b[0;32m--> 157\u001b[0;31m             \u001b[0;32mraise\u001b[0m \u001b[0me\u001b[0m\u001b[0;34m\u001b[0m\u001b[0m\n\u001b[0m\u001b[1;32m    158\u001b[0m \u001b[0;34m\u001b[0m\u001b[0m\n\u001b[1;32m    159\u001b[0m         \u001b[0;32mreturn\u001b[0m \u001b[0mself\u001b[0m\u001b[0;34m\u001b[0m\u001b[0m\n",
      "\u001b[0;31mRuntimeError\u001b[0m: NaN in hidden0_W"
     ]
    }
   ],
   "source": [
    "%%time\n",
    "net.fit(data_matrix_in, data_matrix_out)"
   ]
  },
  {
   "cell_type": "code",
   "execution_count": null,
   "metadata": {
    "collapsed": false
   },
   "outputs": [],
   "source": [
    "%%time\n",
    "# Transform seq features to struct features\n",
    "X_train_pred = net.predict(seqs_scale.transform(Xseq_train))\n",
    "X_test_pred = net.predict(seqs_scale.transform(Xseq_test))"
   ]
  },
  {
   "cell_type": "code",
   "execution_count": null,
   "metadata": {
    "collapsed": false
   },
   "outputs": [],
   "source": [
    "%%time\n",
    "train_perform(X_train_pred, y_train, X_test_pred, y_test)"
   ]
  },
  {
   "cell_type": "markdown",
   "metadata": {},
   "source": [
    "---"
   ]
  }
 ],
 "metadata": {
  "kernelspec": {
   "display_name": "Python 2",
   "language": "python",
   "name": "python2"
  },
  "language_info": {
   "codemirror_mode": {
    "name": "ipython",
    "version": 2
   },
   "file_extension": ".py",
   "mimetype": "text/x-python",
   "name": "python",
   "nbconvert_exporter": "python",
   "pygments_lexer": "ipython2",
   "version": "2.7.10"
  }
 },
 "nbformat": 4,
 "nbformat_minor": 0
}
